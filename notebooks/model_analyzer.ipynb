{
 "cells": [
  {
   "cell_type": "code",
   "execution_count": 5,
   "id": "69c3f14b-173f-4ca9-b99b-de7a53fd0ecf",
   "metadata": {},
   "outputs": [
    {
     "name": "stdout",
     "output_type": "stream",
     "text": [
      "Using EdwardSJ151/MarioGPT2-V2 lm\n"
     ]
    },
    {
     "name": "stderr",
     "output_type": "stream",
     "text": [
      "/opt/conda/lib/python3.10/site-packages/transformers-4.46.3-py3.10.egg/transformers/models/auto/modeling_auto.py:1833: FutureWarning: The class `AutoModelWithLMHead` is deprecated and will be removed in a future version. Please use `AutoModelForCausalLM` for causal language models, `AutoModelForMaskedLM` for masked language models and `AutoModelForSeq2SeqLM` for encoder-decoder models.\n",
      "  warnings.warn(\n"
     ]
    },
    {
     "name": "stdout",
     "output_type": "stream",
     "text": [
      "Using shyamsn97/Mario-GPT2-700-context-length tokenizer\n"
     ]
    },
    {
     "name": "stderr",
     "output_type": "stream",
     "text": [
      "Hardware accelerator e.g. GPU is available in the environment, but no `device` argument is passed to the `Pipeline` object. Model will be on CPU.\n",
      "shape: torch.Size([1, 672]), torch.Size([1, 1401]) first: 56, last: 13: 100% 1400/1400 [00:31<00:00, 44.25it/s]\n",
      "/opt/conda/lib/python3.10/site-packages/PIL/Image.py:996: UserWarning: Palette images with Transparency expressed in bytes should be converted to RGBA images\n",
      "  warnings.warn(\n"
     ]
    }
   ],
   "source": [
    "from mario_gpt import MarioLM\n",
    "import torch\n",
    "device = torch.device('cuda')\n",
    "\n",
    "lm_path = \"EdwardSJ151/MarioGPT2-V2\"\n",
    "tokenizer_path = \"shyamsn97/Mario-GPT2-700-context-length\"\n",
    "\n",
    "mario_lm = MarioLM(lm_path=lm_path, tokenizer_path=tokenizer_path)\n",
    "mario_lm = mario_lm.to(device)\n",
    "\n",
    "prompts = ['some pipes, some enemies, many blocks, many goombas, little koopas, little coins, little powerups, low elevation']\n",
    "\n",
    "generated_level = mario_lm.sample(\n",
    "    prompts=prompts,\n",
    "    num_steps=1400,\n",
    "    temperature=2.0,\n",
    "    use_tqdm=True\n",
    ")\n"
   ]
  },
  {
   "cell_type": "code",
   "execution_count": 6,
   "id": "37869e51",
   "metadata": {},
   "outputs": [
    {
     "name": "stdout",
     "output_type": "stream",
     "text": [
      "SampleOutput(level=['SSSSSSS---------------------------SSSSSSSSSSSSSSSSSSSSSSSSSSSSSSSSSSSSSSSSS-------------------SSSSSS', 'SSSSSSS---------------------------SSSSSSSSSSSSSSSSSSSSSSSSSSSSSSSSSSSSSSSSS-------------------SSSSSS', '----------------------------------------------------------------------------------------------------', '-------------------------------------------------------------------------------------g--------------', '-----------------------------------------------------------------------------------S!S--------------', '----------------------------------------------------------------------------------------------------', '---S------------------------------------------------------------------------------------------------', 'S!SS-----------------?------------------------------------------------------------------------------', '--------------------------------------------K-----------------------------------S!S---S?S----------R', '-------------SS---------------------------K---------------------------------------------------------', '-------------SS-------------S------------####-------B-------------------#--#------------------------', 'g-----K------SS-----SS------S-----------######----o-b-o---------y----y-##--##-----------------SSS---', 'XXXXXXXX-----XX-----XX------X----XXXXXXXXXXXXXX---XXXXX-----XXXXXXXXXXXXX--XXXXXXXXXXXXXXXX---------', 'XXXXXXXX-----XX-----XX------X----XXXXXXXXXXXXXX---XXXXX-----XXXXXXXXXXXXX--XXXXXXXXXXXXXXXX---------'], prompt='no pipes, some enemies, many blocks, many goombas, little koopas, little coins, little powerups, low elevation', img=<PIL.Image.Image image mode=RGB size=1600x224 at 0x76EB202F3F40>, sample_predictions_str=['XXXXXXX-----XX-----XX------X----XXXXXXXXXXXXXX---XXXXX-----XXXXXXXXXXXXX--XXXXXXXXXXXXXXXX----------', 'SSSSSSS---------------------------SSSSSSSSSSSSSSSSSSSSSSSSSSSSSSSSSSSSSSSSS-------------------SSSSSS', 'SSSSSSS---------------------------SSSSSSSSSSSSSSSSSSSSSSSSSSSSSSSSSSSSSSSSS-------------------SSSSSS', '----------------------------------------------------------------------------------------------------', '-------------------------------------------------------------------------------------g--------------', '-----------------------------------------------------------------------------------S!S--------------', '----------------------------------------------------------------------------------------------------', '---S------------------------------------------------------------------------------------------------', 'S!SS-----------------?------------------------------------------------------------------------------', '--------------------------------------------K-----------------------------------S!S---S?S----------R', '-------------SS---------------------------K---------------------------------------------------------', '-------------SS-------------S------------####-------B-------------------#--#------------------------', 'g-----K------SS-----SS------S-----------######----o-b-o---------y----y-##--##-----------------SSS---', 'XXXXXXXX-----XX-----XX------X----XXXXXXXXXXXXXX---XXXXX-----XXXXXXXXXXXXX--XXXXXXXXXXXXXXXX---------'], sample_predictions_img=<PIL.Image.Image image mode=RGB size=1600x224 at 0x76EB202F09A0>, level_tensor=tensor([56, 56, 71,  ..., 13, 51, 51]), sample_predictions_tensor=tensor([56, 71, 13,  ..., 51, 51, 13]))\n"
     ]
    }
   ],
   "source": [
    "print(generated_level)"
   ]
  },
  {
   "cell_type": "code",
   "execution_count": 7,
   "id": "c19f7959-99de-4de6-9a91-1ffeb710842f",
   "metadata": {},
   "outputs": [
    {
     "data": {
      "text/plain": [
       "['SSSSSSS---------------------------SSSSSSSSSSSSSSSSSSSSSSSSSSSSSSSSSSSSSSSSS-------------------SSSSSS',\n",
       " 'SSSSSSS---------------------------SSSSSSSSSSSSSSSSSSSSSSSSSSSSSSSSSSSSSSSSS-------------------SSSSSS',\n",
       " '----------------------------------------------------------------------------------------------------',\n",
       " '-------------------------------------------------------------------------------------g--------------',\n",
       " '-----------------------------------------------------------------------------------S!S--------------',\n",
       " '----------------------------------------------------------------------------------------------------',\n",
       " '---S------------------------------------------------------------------------------------------------',\n",
       " 'S!SS-----------------?------------------------------------------------------------------------------',\n",
       " '--------------------------------------------K-----------------------------------S!S---S?S----------R',\n",
       " '-------------SS---------------------------K---------------------------------------------------------',\n",
       " '-------------SS-------------S------------####-------B-------------------#--#------------------------',\n",
       " 'g-----K------SS-----SS------S-----------######----o-b-o---------y----y-##--##-----------------SSS---',\n",
       " 'XXXXXXXX-----XX-----XX------X----XXXXXXXXXXXXXX---XXXXX-----XXXXXXXXXXXXX--XXXXXXXXXXXXXXXX---------',\n",
       " 'XXXXXXXX-----XX-----XX------X----XXXXXXXXXXXXXX---XXXXX-----XXXXXXXXXXXXX--XXXXXXXXXXXXXXXX---------']"
      ]
     },
     "execution_count": 7,
     "metadata": {},
     "output_type": "execute_result"
    }
   ],
   "source": [
    "# show string list\n",
    "generated_level.level"
   ]
  },
  {
   "cell_type": "code",
   "execution_count": 8,
   "id": "e13fd3bb-435a-4dc4-bee3-a320c3b29b2d",
   "metadata": {},
   "outputs": [
    {
     "data": {
      "image/png": "[encoded data removed]",
      "text/plain": [
       "<PIL.Image.Image image mode=RGB size=1600x224>"
      ]
     },
     "execution_count": 8,
     "metadata": {},
     "output_type": "execute_result"
    }
   ],
   "source": [
    "# show PIL image\n",
    "generated_level.img"
   ]
  },
  {
   "cell_type": "code",
   "execution_count": 4,
   "id": "8a135b4a-27c2-4a6c-a2c2-10d69f15b87f",
   "metadata": {},
   "outputs": [
    {
     "data": {
      "text/plain": [
       "'some pipes, some enemies, many blocks, many goombas, little koopas, little coins, little powerups, low elevation'"
      ]
     },
     "execution_count": 4,
     "metadata": {},
     "output_type": "execute_result"
    }
   ],
   "source": [
    "generated_level.prompt"
   ]
  },
  {
   "cell_type": "code",
   "execution_count": 46,
   "id": "60388e0e-898a-4ebf-8ec6-7cc2f4eafe99",
   "metadata": {},
   "outputs": [
    {
     "name": "stdout",
     "output_type": "stream",
     "text": [
      "no powerups, many goombas\n"
     ]
    }
   ],
   "source": [
    "# Create a prompt maker\n",
    "import random\n",
    "\n",
    "class RandomPromptCreator:\n",
    "    def __init__(self):\n",
    "        self.pipe_options = [\"no\", \"little\", \"some\", \"many\"]\n",
    "        self.enemy_options = [\"no\", \"little\", \"some\", \"many\"]\n",
    "        self.block_options = [\"little\", \"some\", \"many\"]  # Levels always have blocks\n",
    "        self.coin_options = [\"no\", \"little\", \"some\", \"many\"]\n",
    "        self.powerup_options = [\"no\", \"little\", \"some\", \"many\"]\n",
    "        self.goomba_options = [\"no\", \"little\", \"some\", \"many\"]\n",
    "        self.koopa_options = [\"no\", \"little\", \"some\", \"many\"]\n",
    "        self.elevation_options = [\"low\", \"high\"]\n",
    "\n",
    "    def random_pipe_prompt(self) -> str:\n",
    "        return random.choice(self.pipe_options) + \" pipes\"\n",
    "\n",
    "    def random_enemy_prompt(self) -> str:\n",
    "        return random.choice(self.enemy_options) + \" enemies\"\n",
    "\n",
    "    def random_block_prompt(self) -> str:\n",
    "        return random.choice(self.block_options) + \" blocks\"\n",
    "\n",
    "    def random_coin_prompt(self) -> str:\n",
    "        return random.choice(self.coin_options) + \" coins\"\n",
    "\n",
    "    def random_powerup_prompt(self) -> str:\n",
    "        return random.choice(self.powerup_options) + \" powerups\"\n",
    "\n",
    "    def random_goomba_prompt(self) -> str:\n",
    "        return random.choice(self.goomba_options) + \" goombas\"\n",
    "\n",
    "    def random_koopa_prompt(self) -> str:\n",
    "        return random.choice(self.koopa_options) + \" koopas\"\n",
    "\n",
    "    def random_elevation_prompt(self) -> str:\n",
    "        return random.choice(self.elevation_options) + \" elevation\"\n",
    "\n",
    "    def create_random_prompt(self) -> str:\n",
    "        components = []\n",
    "\n",
    "        # Randomly decide whether to include each feature\n",
    "        if random.choice([True, False]):\n",
    "            components.append(self.random_pipe_prompt())\n",
    "        if random.choice([True, False]):\n",
    "            components.append(self.random_enemy_prompt())\n",
    "        if random.choice([True, False]):\n",
    "            components.append(self.random_block_prompt())\n",
    "        if random.choice([True, False]):\n",
    "            components.append(self.random_coin_prompt())\n",
    "        if random.choice([True, False]):\n",
    "            components.append(self.random_powerup_prompt())\n",
    "        if random.choice([True, False]):\n",
    "            components.append(self.random_goomba_prompt())\n",
    "        if random.choice([True, False]):\n",
    "            components.append(self.random_koopa_prompt())\n",
    "        if random.choice([True, False]):\n",
    "            components.append(self.random_elevation_prompt())\n",
    "\n",
    "        # Ensure at least one feature is included\n",
    "        while not components:\n",
    "            components.append(self.random_pipe_prompt())\n",
    "\n",
    "        return \", \".join(components)\n",
    "\n",
    "\n",
    "# Example usage\n",
    "random_prompter = RandomPromptCreator()\n",
    "prompt = random_prompter.create_random_prompt()\n",
    "print(prompt)"
   ]
  },
  {
   "cell_type": "code",
   "execution_count": null,
   "id": "7fa6329b-235f-4a94-9b58-3e54b3a8ac03",
   "metadata": {},
   "outputs": [],
   "source": [
    "import csv\n",
    "import os\n",
    "\n",
    "# File name for the CSV\n",
    "csv_filename = \"generated_levels.csv\"\n",
    "\n",
    "# Function to check if a prompt already exists in the CSV\n",
    "def prompt_exists_in_csv(prompt, filename):\n",
    "    if not os.path.exists(filename):\n",
    "        return False\n",
    "    with open(filename, mode='r', newline='', encoding='utf-8') as file:\n",
    "        reader = csv.DictReader(file)\n",
    "        for row in reader:\n",
    "            if row['prompt'] == prompt:\n",
    "                return True\n",
    "    return False\n",
    "\n",
    "# Generate and append levels to the CSV\n",
    "def generate_and_append_levels(num_levels):\n",
    "    # Open the CSV in append mode\n",
    "    with open(csv_filename, mode='a', newline='', encoding='utf-8') as file:\n",
    "        writer = csv.DictWriter(file, fieldnames=[\"prompt\", \"level\", \"real_prompt\"])\n",
    "\n",
    "        # Write the header if the file is empty\n",
    "        if os.stat(csv_filename).st_size == 0:\n",
    "            writer.writeheader()\n",
    "\n",
    "        for _ in range(num_levels):\n",
    "            # Generate a unique prompt\n",
    "            prompt = random_prompter.create_random_prompt()\n",
    "\n",
    "            while prompt_exists_in_csv(prompt, csv_filename):\n",
    "                prompt = random_prompter.create_random_prompt()\n",
    "\n",
    "            # Generate a level based on the prompt\n",
    "            generated_level = mario_lm.sample(\n",
    "                prompts=[prompt], \n",
    "                num_steps=1400,\n",
    "                temperature=2.8,\n",
    "                use_tqdm=True\n",
    "            )\n",
    "\n",
    "            # Append the new level and prompt to the CSV\n",
    "            writer.writerow({\n",
    "                \"prompt\": prompt,\n",
    "                \"level\": generated_level.level,\n",
    "                \"real_prompt\": generated_level.prompt\n",
    "            })\n",
    "\n",
    "    print(f\"Generated levels and prompts appended to {csv_filename}\")\n",
    "\n",
    "# Call the function to generate and append levels\n",
    "generate_and_append_levels(1000)"
   ]
  },
  {
   "cell_type": "code",
   "execution_count": null,
   "id": "cb6d1675-a61f-4d1b-8944-7bd9f2899d34",
   "metadata": {},
   "outputs": [],
   "source": [
    "# Choose 250 and apply A* on them"
   ]
  },
  {
   "cell_type": "code",
   "execution_count": null,
   "id": "a1823f05-fa42-407d-ad83-a590f4a40093",
   "metadata": {},
   "outputs": [],
   "source": [
    "!pip -q install pandas"
   ]
  },
  {
   "cell_type": "code",
   "execution_count": 48,
   "id": "4ba68499-1ef8-4eaf-a883-7417a4fe7b31",
   "metadata": {},
   "outputs": [
    {
     "name": "stdout",
     "output_type": "stream",
     "text": [
      "   Component  Accuracy (%)\n",
      "0      pipes          13.6\n",
      "1    enemies           9.6\n",
      "2     blocks          17.0\n",
      "3    goombas          35.2\n",
      "4     koopas          62.8\n",
      "5      coins          83.4\n",
      "6   powerups          96.0\n",
      "7  elevation          99.8\n"
     ]
    }
   ],
   "source": [
    "import pandas as pd\n",
    "\n",
    "# Load the CSV file\n",
    "data = pd.read_csv(\"generated_levels.csv\")\n",
    "\n",
    "# Define a function to parse prompts into components\n",
    "def parse_prompt(prompt):\n",
    "    if not isinstance(prompt, str):\n",
    "        return {}\n",
    "    components = [x.strip() for x in prompt.split(',')]\n",
    "    parsed = {}\n",
    "    \n",
    "    # Define possible keys in the expected order\n",
    "    keys = ['pipes', 'enemies', 'blocks', 'goombas', 'koopas', 'coins', 'powerups', 'elevation']\n",
    "    \n",
    "    # Map components to keys (if they exist)\n",
    "    for i, component in enumerate(components):\n",
    "        if i < len(keys):\n",
    "            parsed[keys[i]] = component\n",
    "    return parsed\n",
    "\n",
    "# Parse both the prompt and real_prompt columns\n",
    "data['parsed_prompt'] = data['prompt'].apply(parse_prompt)\n",
    "data['parsed_real_prompt'] = data['real_prompt'].apply(parse_prompt)\n",
    "\n",
    "# Get all unique keys across parsed prompts and real prompts\n",
    "all_keys = ['pipes', 'enemies', 'blocks', 'goombas', 'koopas', 'coins', 'powerups', 'elevation']\n",
    "\n",
    "# Initialize accuracy counters for all components\n",
    "accuracy = {key: 0 for key in all_keys}\n",
    "\n",
    "# Define a comparison function\n",
    "def compare_components(row):\n",
    "    result = {key: 1 for key in all_keys}  # Default to 1 (100% accurate) for all keys\n",
    "    for key in all_keys:\n",
    "        # If the component is explicitly mentioned in parsed_prompt, compare it with parsed_real_prompt\n",
    "        if key in row['parsed_prompt']:\n",
    "            if row['parsed_prompt'][key] != row['parsed_real_prompt'].get(key):\n",
    "                result[key] = 0  # Mark as inaccurate if values do not match\n",
    "    return result\n",
    "\n",
    "# Apply the comparison to each row and calculate accuracy per row\n",
    "data['comparison_results'] = data.apply(compare_components, axis=1)\n",
    "\n",
    "# Aggregate accuracy for all components\n",
    "for key in all_keys:\n",
    "    accuracy[key] = data['comparison_results'].apply(lambda x: x[key]).sum()\n",
    "\n",
    "# Calculate accuracy percentages\n",
    "accuracy_percentage = {key: (accuracy[key] / len(data)) * 100 for key in all_keys}\n",
    "\n",
    "# Create a DataFrame for the results\n",
    "accuracy_df = pd.DataFrame(\n",
    "    list(accuracy_percentage.items()),\n",
    "    columns=['Component', 'Accuracy (%)']\n",
    ")\n",
    "\n",
    "# Display the results\n",
    "print(accuracy_df)\n"
   ]
  },
  {
   "cell_type": "code",
   "execution_count": 35,
   "id": "b61719c2-8fac-4a3c-aa42-3ad93b667790",
   "metadata": {},
   "outputs": [
    {
     "name": "stdout",
     "output_type": "stream",
     "text": [
      "Generating level 1 for temperature 2.0 (Temperature index: 1)\n"
     ]
    },
    {
     "name": "stderr",
     "output_type": "stream",
     "text": [
      "shape: torch.Size([1, 672]), torch.Size([1, 1401]) first: 13, last: 13: 100% 1400/1400 [00:31<00:00, 44.44it/s]\n"
     ]
    },
    {
     "name": "stdout",
     "output_type": "stream",
     "text": [
      "Saved image to generated_images/level_temp_1_sample_1.png\n",
      "Generating level 2 for temperature 2.0 (Temperature index: 1)\n"
     ]
    },
    {
     "name": "stderr",
     "output_type": "stream",
     "text": [
      "shape: torch.Size([1, 672]), torch.Size([1, 1401]) first: 56, last: 13: 100% 1400/1400 [00:31<00:00, 44.35it/s]\n"
     ]
    },
    {
     "name": "stdout",
     "output_type": "stream",
     "text": [
      "Saved image to generated_images/level_temp_1_sample_2.png\n",
      "Generating level 3 for temperature 2.0 (Temperature index: 1)\n"
     ]
    },
    {
     "name": "stderr",
     "output_type": "stream",
     "text": [
      "shape: torch.Size([1, 672]), torch.Size([1, 1401]) first: 56, last: 56: 100% 1400/1400 [00:31<00:00, 44.27it/s]\n"
     ]
    },
    {
     "name": "stdout",
     "output_type": "stream",
     "text": [
      "Saved image to generated_images/level_temp_1_sample_3.png\n",
      "Generating level 4 for temperature 2.0 (Temperature index: 1)\n"
     ]
    },
    {
     "name": "stderr",
     "output_type": "stream",
     "text": [
      "shape: torch.Size([1, 672]), torch.Size([1, 1401]) first: 56, last: 56: 100% 1400/1400 [00:32<00:00, 43.68it/s]\n"
     ]
    },
    {
     "name": "stdout",
     "output_type": "stream",
     "text": [
      "Saved image to generated_images/level_temp_1_sample_4.png\n",
      "Generating level 5 for temperature 2.0 (Temperature index: 1)\n"
     ]
    },
    {
     "name": "stderr",
     "output_type": "stream",
     "text": [
      "shape: torch.Size([1, 672]), torch.Size([1, 1401]) first: 56, last: 13: 100% 1400/1400 [00:32<00:00, 43.59it/s]\n"
     ]
    },
    {
     "name": "stdout",
     "output_type": "stream",
     "text": [
      "Saved image to generated_images/level_temp_1_sample_5.png\n",
      "Generating level 1 for temperature 2.5 (Temperature index: 2)\n"
     ]
    },
    {
     "name": "stderr",
     "output_type": "stream",
     "text": [
      "shape: torch.Size([1, 672]), torch.Size([1, 1401]) first: 13, last: 56: 100% 1400/1400 [00:31<00:00, 44.32it/s]\n"
     ]
    },
    {
     "name": "stdout",
     "output_type": "stream",
     "text": [
      "Saved image to generated_images/level_temp_2_sample_1.png\n",
      "Generating level 2 for temperature 2.5 (Temperature index: 2)\n"
     ]
    },
    {
     "name": "stderr",
     "output_type": "stream",
     "text": [
      "shape: torch.Size([1, 672]), torch.Size([1, 1401]) first: 13, last: 56: 100% 1400/1400 [00:31<00:00, 44.59it/s]\n"
     ]
    },
    {
     "name": "stdout",
     "output_type": "stream",
     "text": [
      "Saved image to generated_images/level_temp_2_sample_2.png\n",
      "Generating level 3 for temperature 2.5 (Temperature index: 2)\n"
     ]
    },
    {
     "name": "stderr",
     "output_type": "stream",
     "text": [
      "shape: torch.Size([1, 672]), torch.Size([1, 1401]) first: 13, last: 56: 100% 1400/1400 [00:31<00:00, 44.34it/s]\n"
     ]
    },
    {
     "name": "stdout",
     "output_type": "stream",
     "text": [
      "Saved image to generated_images/level_temp_2_sample_3.png\n",
      "Generating level 4 for temperature 2.5 (Temperature index: 2)\n"
     ]
    },
    {
     "name": "stderr",
     "output_type": "stream",
     "text": [
      "shape: torch.Size([1, 672]), torch.Size([1, 1401]) first: 56, last: 56: 100% 1400/1400 [00:31<00:00, 44.32it/s]\n"
     ]
    },
    {
     "name": "stdout",
     "output_type": "stream",
     "text": [
      "Saved image to generated_images/level_temp_2_sample_4.png\n",
      "Generating level 5 for temperature 2.5 (Temperature index: 2)\n"
     ]
    },
    {
     "name": "stderr",
     "output_type": "stream",
     "text": [
      "shape: torch.Size([1, 672]), torch.Size([1, 1401]) first: 13, last: 13: 100% 1400/1400 [00:31<00:00, 44.33it/s]\n"
     ]
    },
    {
     "name": "stdout",
     "output_type": "stream",
     "text": [
      "Saved image to generated_images/level_temp_2_sample_5.png\n",
      "Generating level 1 for temperature 3.0 (Temperature index: 3)\n"
     ]
    },
    {
     "name": "stderr",
     "output_type": "stream",
     "text": [
      "shape: torch.Size([1, 672]), torch.Size([1, 1401]) first: 56, last: 13: 100% 1400/1400 [00:31<00:00, 44.05it/s]\n"
     ]
    },
    {
     "name": "stdout",
     "output_type": "stream",
     "text": [
      "Saved image to generated_images/level_temp_3_sample_1.png\n",
      "Generating level 2 for temperature 3.0 (Temperature index: 3)\n"
     ]
    },
    {
     "name": "stderr",
     "output_type": "stream",
     "text": [
      "shape: torch.Size([1, 672]), torch.Size([1, 1401]) first: 13, last: 56: 100% 1400/1400 [00:32<00:00, 43.63it/s]\n"
     ]
    },
    {
     "name": "stdout",
     "output_type": "stream",
     "text": [
      "Saved image to generated_images/level_temp_3_sample_2.png\n",
      "Generating level 3 for temperature 3.0 (Temperature index: 3)\n"
     ]
    },
    {
     "name": "stderr",
     "output_type": "stream",
     "text": [
      "shape: torch.Size([1, 672]), torch.Size([1, 1401]) first: 56, last: 56: 100% 1400/1400 [00:31<00:00, 44.03it/s]\n"
     ]
    },
    {
     "name": "stdout",
     "output_type": "stream",
     "text": [
      "Saved image to generated_images/level_temp_3_sample_3.png\n",
      "Generating level 4 for temperature 3.0 (Temperature index: 3)\n"
     ]
    },
    {
     "name": "stderr",
     "output_type": "stream",
     "text": [
      "shape: torch.Size([1, 672]), torch.Size([1, 1401]) first: 13, last: 13: 100% 1400/1400 [00:31<00:00, 43.88it/s]\n"
     ]
    },
    {
     "name": "stdout",
     "output_type": "stream",
     "text": [
      "Saved image to generated_images/level_temp_3_sample_4.png\n",
      "Generating level 5 for temperature 3.0 (Temperature index: 3)\n"
     ]
    },
    {
     "name": "stderr",
     "output_type": "stream",
     "text": [
      "shape: torch.Size([1, 672]), torch.Size([1, 1401]) first: 56, last: 56: 100% 1400/1400 [00:31<00:00, 44.38it/s]\n"
     ]
    },
    {
     "name": "stdout",
     "output_type": "stream",
     "text": [
      "Saved image to generated_images/level_temp_3_sample_5.png\n",
      "Generating level 1 for temperature 3.5 (Temperature index: 4)\n"
     ]
    },
    {
     "name": "stderr",
     "output_type": "stream",
     "text": [
      "shape: torch.Size([1, 672]), torch.Size([1, 1401]) first: 13, last: 13: 100% 1400/1400 [00:31<00:00, 44.16it/s]\n"
     ]
    },
    {
     "name": "stdout",
     "output_type": "stream",
     "text": [
      "Saved image to generated_images/level_temp_4_sample_1.png\n",
      "Generating level 2 for temperature 3.5 (Temperature index: 4)\n"
     ]
    },
    {
     "name": "stderr",
     "output_type": "stream",
     "text": [
      "shape: torch.Size([1, 672]), torch.Size([1, 1401]) first: 56, last: 56: 100% 1400/1400 [00:32<00:00, 43.69it/s]\n"
     ]
    },
    {
     "name": "stdout",
     "output_type": "stream",
     "text": [
      "REPLACING <PIL.PngImagePlugin.PngImageFile image mode=RGB size=16x16 at 0x76EB29FCEFB0> (62, 4)\n",
      "REPLACING <PIL.PngImagePlugin.PngImageFile image mode=RGB size=16x16 at 0x76EB29FCEFB0> (70, 4)\n",
      "REPLACING <PIL.PngImagePlugin.PngImageFile image mode=RGB size=16x16 at 0x76EB29D3DBA0> (62, 5)\n",
      "REPLACING <PIL.PngImagePlugin.PngImageFile image mode=RGB size=16x16 at 0x76EB29D3DBA0> (70, 5)\n",
      "Saved image to generated_images/level_temp_4_sample_2.png\n",
      "Generating level 3 for temperature 3.5 (Temperature index: 4)\n"
     ]
    },
    {
     "name": "stderr",
     "output_type": "stream",
     "text": [
      "shape: torch.Size([1, 672]), torch.Size([1, 1401]) first: 56, last: 56: 100% 1400/1400 [00:31<00:00, 44.30it/s]\n"
     ]
    },
    {
     "name": "stdout",
     "output_type": "stream",
     "text": [
      "REPLACING <PIL.PngImagePlugin.PngImageFile image mode=RGB size=16x16 at 0x76EB29FCFF10> (0, 9)\n",
      "REPLACING <PIL.PngImagePlugin.PngImageFile image mode=RGB size=16x16 at 0x76EB29D3F8B0> (0, 10)\n",
      "Saved image to generated_images/level_temp_4_sample_3.png\n",
      "Generating level 4 for temperature 3.5 (Temperature index: 4)\n"
     ]
    },
    {
     "name": "stderr",
     "output_type": "stream",
     "text": [
      "shape: torch.Size([1, 672]), torch.Size([1, 1401]) first: 56, last: 56: 100% 1400/1400 [00:31<00:00, 44.42it/s]\n"
     ]
    },
    {
     "name": "stdout",
     "output_type": "stream",
     "text": [
      "REPLACING <PIL.PngImagePlugin.PngImageFile image mode=RGB size=16x16 at 0x76EB29DB1D20> (4, 8)\n",
      "REPLACING <PIL.PngImagePlugin.PngImageFile image mode=RGB size=16x16 at 0x76EB29D3CB50> (4, 9)\n",
      "Saved image to generated_images/level_temp_4_sample_4.png\n",
      "Generating level 5 for temperature 3.5 (Temperature index: 4)\n"
     ]
    },
    {
     "name": "stderr",
     "output_type": "stream",
     "text": [
      "shape: torch.Size([1, 672]), torch.Size([1, 1401]) first: 56, last: 13: 100% 1400/1400 [00:31<00:00, 44.60it/s]\n"
     ]
    },
    {
     "name": "stdout",
     "output_type": "stream",
     "text": [
      "Saved image to generated_images/level_temp_4_sample_5.png\n",
      "Generating level 1 for temperature 4.0 (Temperature index: 5)\n"
     ]
    },
    {
     "name": "stderr",
     "output_type": "stream",
     "text": [
      "shape: torch.Size([1, 672]), torch.Size([1, 1401]) first: 56, last: 13: 100% 1400/1400 [00:31<00:00, 44.45it/s]\n"
     ]
    },
    {
     "name": "stdout",
     "output_type": "stream",
     "text": [
      "Saved image to generated_images/level_temp_5_sample_1.png\n",
      "Generating level 2 for temperature 4.0 (Temperature index: 5)\n"
     ]
    },
    {
     "name": "stderr",
     "output_type": "stream",
     "text": [
      "shape: torch.Size([1, 672]), torch.Size([1, 1401]) first: 56, last: 13: 100% 1400/1400 [00:31<00:00, 44.41it/s]  \n"
     ]
    },
    {
     "name": "stdout",
     "output_type": "stream",
     "text": [
      "Saved image to generated_images/level_temp_5_sample_2.png\n",
      "Generating level 3 for temperature 4.0 (Temperature index: 5)\n"
     ]
    },
    {
     "name": "stderr",
     "output_type": "stream",
     "text": [
      "shape: torch.Size([1, 672]), torch.Size([1, 1401]) first: 56, last: 56: 100% 1400/1400 [00:31<00:00, 44.34it/s]\n"
     ]
    },
    {
     "name": "stdout",
     "output_type": "stream",
     "text": [
      "REPLACING <PIL.PngImagePlugin.PngImageFile image mode=RGB size=16x16 at 0x76EB29D3EC80> (0, 9)\n",
      "REPLACING <PIL.PngImagePlugin.PngImageFile image mode=RGB size=16x16 at 0x76EB29D3FFD0> (0, 10)\n",
      "Saved image to generated_images/level_temp_5_sample_3.png\n",
      "Generating level 4 for temperature 4.0 (Temperature index: 5)\n"
     ]
    },
    {
     "name": "stderr",
     "output_type": "stream",
     "text": [
      "shape: torch.Size([1, 672]), torch.Size([1, 1401]) first: 56, last: 56: 100% 1400/1400 [00:31<00:00, 44.24it/s]\n"
     ]
    },
    {
     "name": "stdout",
     "output_type": "stream",
     "text": [
      "Saved image to generated_images/level_temp_5_sample_4.png\n",
      "Generating level 5 for temperature 4.0 (Temperature index: 5)\n"
     ]
    },
    {
     "name": "stderr",
     "output_type": "stream",
     "text": [
      "shape: torch.Size([1, 672]), torch.Size([1, 1401]) first: 56, last: 13: 100% 1400/1400 [00:31<00:00, 44.00it/s]\n"
     ]
    },
    {
     "name": "stdout",
     "output_type": "stream",
     "text": [
      "Saved image to generated_images/level_temp_5_sample_5.png\n",
      "Generated levels and prompts saved to temperature_levels.csv\n"
     ]
    }
   ],
   "source": [
    "import numpy as np  # Import numpy for creating a range of temperatures\n",
    "import os  # For creating directories\n",
    "from PIL import Image  # Import Pillow for saving images\n",
    "import csv  # For saving data to a CSV file\n",
    "\n",
    "# Compare level with different temperatures\n",
    "\n",
    "data = []\n",
    "\n",
    "csv_filename = \"temperature_levels.csv\"\n",
    "image_directory = \"generated_images\"  # Directory to save images\n",
    "os.makedirs(image_directory, exist_ok=True)  # Create directory if it doesn't exist\n",
    "\n",
    "prompt = ['some pipes, some enemies, many blocks, many goombas, little koopas, little coins, little powerups, low elevation']\n",
    "\n",
    "# Generate a range of temperatures from 1.0 to 2.8 in 5 equal steps\n",
    "temperatures = np.linspace(2.0, 4.0, 5)\n",
    "\n",
    "num_samples_per_temperature = 5  # Number of levels to generate for each temperature\n",
    "\n",
    "# Loop to generate multiple levels for each temperature\n",
    "for i, temp in enumerate(temperatures):\n",
    "    for j in range(num_samples_per_temperature):\n",
    "        print(f\"Generating level {j+1} for temperature {temp} (Temperature index: {i+1})\")\n",
    "        \n",
    "        # Generate a level based on the prompt with varying temperature\n",
    "        generated_level = mario_lm.sample(\n",
    "            prompts=prompt, \n",
    "            num_steps=1400,\n",
    "            temperature=temp,  # Use dynamic temperature for each iteration\n",
    "            use_tqdm=True\n",
    "        )\n",
    "        \n",
    "        # Save the image\n",
    "        image_path = os.path.join(image_directory, f\"level_temp_{i+1}_sample_{j+1}.png\")\n",
    "        generated_level.img.save(image_path)  # Use Pillow's save() method\n",
    "        print(f\"Saved image to {image_path}\")\n",
    "        \n",
    "        # Append data for CSV\n",
    "        data.append({\n",
    "            \"prompt\": prompt, \n",
    "            \"level\": generated_level.level, \n",
    "            \"level_prompt\": generated_level.prompt,\n",
    "            \"temperature\": temp,  # Add temperature to the data\n",
    "            \"image_path\": image_path  # Add image path to the CSV data\n",
    "        })\n",
    "\n",
    "# Save data to a CSV file\n",
    "with open(csv_filename, mode='w', newline='', encoding='utf-8') as file:\n",
    "    writer = csv.DictWriter(file, fieldnames=[\"prompt\", \"level\", \"level_prompt\", \"temperature\", \"image_path\"])\n",
    "    writer.writeheader()\n",
    "    writer.writerows(data)\n",
    "\n",
    "print(f\"Generated levels and prompts saved to {csv_filename}\")\n"
   ]
  },
  {
   "cell_type": "code",
   "execution_count": 33,
   "id": "4c4a37c6",
   "metadata": {},
   "outputs": [
    {
     "name": "stderr",
     "output_type": "stream",
     "text": [
      "huggingface/tokenizers: The current process just got forked, after parallelism has already been used. Disabling parallelism to avoid deadlocks...\n",
      "To disable this warning, you can either:\n",
      "\t- Avoid using `tokenizers` before the fork if possible\n",
      "\t- Explicitly set the environment variable TOKENIZERS_PARALLELISM=(true | false)\n"
     ]
    },
    {
     "name": "stdout",
     "output_type": "stream",
     "text": [
      "\u001b[33mWARNING: Running pip as the 'root' user can result in broken permissions and conflicting behaviour with the system package manager. It is recommended to use a virtual environment instead: https://pip.pypa.io/warnings/venv\u001b[0m\u001b[33m\n",
      "\u001b[0m"
     ]
    }
   ],
   "source": [
    "!pip -q install pandas"
   ]
  },
  {
   "cell_type": "code",
   "execution_count": 36,
   "id": "21f25498",
   "metadata": {},
   "outputs": [
    {
     "name": "stdout",
     "output_type": "stream",
     "text": [
      "Level 1:\n",
      "Best Match String:\n",
      "----------------------------------------------------------------------------------------------------\n",
      "##SSSUSUSSSSSSSSSSSSSSSSSSSSSSSSSSSSSSSSS----SSSSSSSSSSSSSSSSSSSSSSSSSSSSSSSS-----SSSSSSSSSSSSSSSS--\n",
      "##-------------------------------------------SSSS---------------------------------SSSS--------------\n",
      "---------------------------------------------SSSS---------------------------------SSSS--------------\n",
      "---------------------------------------------SSSS---------------------------------SSSS--------------\n",
      "----------------------------------------------------()----------------------------------------------\n",
      "----------------------------------------------------[]----------------------------------------------\n",
      "--#####---------------------------SSS---------------[]-----------()---------------------------------\n",
      "-######-------------------SSS-----------------()---SSSS----------[]---------------SCSS---------SSS--\n",
      "#######-----------SSS-------------------------[]--------()-------[]--<>-----------SSS---------------\n",
      "#######---SSS---------------------------------[]--------[]---<>--[]--[]----()-----SS----------------\n",
      "#######---------------------------------------[]--------[]---[]--[]--[]----[]--------k--k--#--------\n",
      "XXXXXXXX---------------------------------XXXXXXXXXX----XXX---XX--XX--XX--XXXXXXXXXXXXXXXXXXX--------\n",
      "XXXXXXXX---------------------------------XXXXXXXXXX----XXX---XX--XX--XX--XXXXXXXXXXXXXXXXXXX--------\n",
      "Best Score: 1331\n",
      "Best Coordinates: (0, 13033)\n",
      "\n",
      "Saved as: best_match_level_1.png\n",
      "\n",
      "Level 2:\n",
      "Best Match String:\n",
      "------------------------------------------------------------------XXXXXXXXXXXXXXXXXXXXXXXXXXXXXXXXXX\n",
      "------------------------------------------------------------------XXXXXXXXXXXXXXXXXXXXXXXXXXXXXXXXXX\n",
      "------------------------------------------------------------------XXXXXXXXXXXXXXXXXXXXXXX-----------\n",
      "--------------------------------------------------------------------------XXXXXXXXXXXXXXX-----------\n",
      "------------------------------------------------------##------------------------------------------?-\n",
      "-----1-----------------------------------------------###--------------------------------------------\n",
      "----------------------------------------------------####----------XXXXXX----------------------------\n",
      "-----R-()------------------------------------------#####----------XXXXXX----------------------------\n",
      "-------[]-------()--()----------------------------######----------XXXXXXX---------------------------\n",
      "-------[]---()--[]--[]------------R--------------#######----------XXXXXXXXXXXXXXXXXXXXXXX---XX---XX-\n",
      "-------[]---[]--[]--[]--------------------------########----------XXXXXXXXXXXXXXXXXXXXXXX---XX---XX-\n",
      "-------[]---[]--[]--[]-------------------------#########----------XXXXXXXXXXXXXXXXXXXXXXX---XX---XX-\n",
      "XXXXXXXXX---XX--XXXXXXXXXXXXXXXX----XXX----XXXXXXXXXXXXXXXXXX---XXXXXXXXXXXXXXXXXXXXXXXXX---XX---XX-\n",
      "XXXXXXXXX---XX--XXXXXXXXXXXXXXXX----XXX----XXXXXXXXXXXXXXXXXX---XXXXXXXXXXXXXXXXXXXXXXXXX---XX---XX-\n",
      "Best Score: 1387\n",
      "Best Coordinates: (0, 9611)\n",
      "\n",
      "Saved as: best_match_level_2.png\n",
      "\n",
      "Level 3:\n",
      "Best Match String:\n",
      "----------------------------------------------------------------------------------------------------\n",
      "----------------------------------------------------------------------------------------------------\n",
      "----------------------------------------------------------------------------------------------------\n",
      "----------------------------------------------------------------------------------------------------\n",
      "-###########--------------####----------################--------------------------------------------\n",
      "---------------------------##------------##---##--##--##-------------------------------##-----------\n",
      "---------------------------##------------##---##--##--##-------------------------------##-----------\n",
      "---------------------------##------------##---##--##--##------------------k------------##-----------\n",
      "---------------------------##------------##--------------------------------------------##-----------\n",
      "--------------------------K##------------##-------------------------------B------------##-----------\n",
      "############--------K-----------------------------------------------------b------------##-----------\n",
      "g-----g----------K-----K---------------------------------------K----------Bkk-----------------------\n",
      "XXXXXXXXXXXXXXXXXXXXXXXXXXXXXXX-----XXXXXXXXXX--XX--XX--XXXXXXXXXXXXXXXXXXbXXXXXXXXXXXXXXXXXXXXXXXXX\n",
      "XXXXXXXXXXXXXXXXXXXXXXXXXXXXXXX-----XXXXXXXXXX--XX--XX--XXXXXXXXXXXXXXXXXXXXXXXXXXXXXXXXXXXXXXXXXXXX\n",
      "Best Score: 1371\n",
      "Best Coordinates: (0, 10896)\n",
      "\n",
      "Saved as: best_match_level_3.png\n",
      "\n"
     ]
    },
    {
     "name": "stderr",
     "output_type": "stream",
     "text": [
      "/opt/conda/lib/python3.10/site-packages/PIL/Image.py:996: UserWarning: Palette images with Transparency expressed in bytes should be converted to RGBA images\n",
      "  warnings.warn(\n"
     ]
    },
    {
     "name": "stdout",
     "output_type": "stream",
     "text": [
      "Level 4:\n",
      "Best Match String:\n",
      "----------------------------------------------------------------------------------------------------\n",
      "----------------------------------------------------------------------------------------------------\n",
      "----------------------------------------------------------------------------------------------------\n",
      "-------------------------------------------------------------------------gg-------------------------\n",
      "SSSSSS-------------------SSSSSSS-------!!?------------!!!!!!!---------SSSSSSSSS----------------#----\n",
      "---------------------------------------------------------------------------------------------g-#----\n",
      "--------()-----------------------------------------------k----------------------------------##-#----\n",
      "SS------[]-----------------------------SSS------------SSSSSSS-------------------------------##-#----\n",
      "-------!!!!!!------------S2S2S2S---------------()--------------k-------K-----()-------()----##-#----\n",
      "-----------------------------------------------[]-------#------#-------------[]-------[]----##-#----\n",
      "-----------------------------------------------[]-------#------#-------------[]-------[]----##-#----\n",
      "k---k------------k--gg--------------S----------[]-----k-#------#-------------[]-------[]----##-#----\n",
      "XXXXXXXXX-X-XXXXXXXXXXXXXXXXXX-X-X--X------XXXXXXXXXXXXXXXXXXXXXXXXXXXXXXXXXXXX-------XX-XXXXX-XXXXX\n",
      "XXXXXXXXX-X-XXXXXXXXXXXXXXXXXX-X-X--X------XXXXXXXXXXXXXXXXXXXXXXXXXXXXXXXXXXXX-------XX-XXXXX-XXXXX\n",
      "Best Score: 1396\n",
      "Best Coordinates: (0, 11844)\n",
      "\n",
      "Saved as: best_match_level_4.png\n",
      "\n",
      "Level 5:\n",
      "Best Match String:\n",
      "XXXXXXXXXXXXXX--------------------------------------------------------------------------------------\n",
      "XXXXXXXXXXXXXX--------------------------------------------------------------------------------------\n",
      "XXXXXXXXXXXXXX--------------------------------------------------------------------------------------\n",
      "XXXXXXXXXXXXXX--------------------------------------------------------------------------------------\n",
      "XXXXXXXXXXXXXX----------------------------------------SU--------------------------------------------\n",
      "XXXXXXXXXXXXXX---XXXXXXXX<>-------------------------------------------------------------------------\n",
      "XXXXXXXXXXXXXX-----------[]-------------------------------------------------------------------------\n",
      "XXXXXXXXXXXXXX-SSS-------[]-------------------------------------------------------------------------\n",
      "SSSSSSSSSSS##S-----------[]------------------!!!------<>-------------SSSS------!!------!!-----------\n",
      "-----------##------------[]---------------------------[]<>------------------------------------------\n",
      "-------------------------[]-------------------------<>[][]--<>--------------------------------------\n",
      "-------------------------[]-------------------------[][][]--[]-----------------------------r--------\n",
      "#-#-#-XXXXXXXXX----------[]XXXXXXXXXXXXXXXXXXXXXXXXXXXXXXXXX[]XXXXXXX()XX----XXXXXX()XXXXXXXX---SSS-\n",
      "------XXXXXXXXX----------[]XXXXXXXXXXXXXXXXXXXXXXXXXXXXXXXXX[]XXXXXXX[]XX----XXXXXX[]XXXXXXXX-------\n",
      "Best Score: 1385\n",
      "Best Coordinates: (0, 19469)\n",
      "\n",
      "Saved as: best_match_level_5.png\n",
      "\n",
      "Level 6:\n",
      "Best Match String:\n",
      "SSSSSSSSSSSSSSSSSSSSSSSSSSSSSSSSSSSSS---------------------SSSSSSSSSSSSSSSSSSSSSSSS------------------\n",
      "SSSSSSSSSSSSSSSSSSSSSSSSSSSSSSSSSSSSS---------------------SSSSSSSSSSSSSSSSSSSSSSSS------------------\n",
      "------------------------S--------------------------o------------------------------------------------\n",
      "------------------------S--o-----------------SSS----------------------------------------------------\n",
      "------------------------S-o-o-----------------------------------------------------------------------\n",
      "------------------------S-ooo-------------------------o---------------------------------------------\n",
      "------------------------S-----S---------------------------------------------------------------------\n",
      "------------------------SSSSSSS--------------SSS--------------------------------------SSS-----!!----\n",
      "--!?---------------------------------g-------------------o------------------------------------------\n",
      "-----------------------------------g-#------------------------<>------------------------------------\n",
      "-----------------------------------###----------------------()[]------------------B-----------------\n",
      "---------k------------------------####-------SSS------------[][]------------k--k--b-----------------\n",
      "XXXXXXXXXXXX-----XXXXXXXXXXXXXXXXXXXXX-------------------XXXXXXX----XXXXXXXXXXXXXXX----------XXXXXXX\n",
      "XXXXXXXXXXXX-----XXXXXXXXXXXXXXXXXXXXX-------------------XXXXXXX----XXXXXXXXXXXXXXX----------XXXXXXX\n",
      "Best Score: 1387\n",
      "Best Coordinates: (0, 18750)\n",
      "\n",
      "Saved as: best_match_level_6.png\n",
      "\n",
      "Level 7:\n",
      "Best Match String:\n",
      "----------------------------------------------------------------------------------------------------\n",
      "-----oo---------------------------------------------------------------------------------------------\n",
      "-----------g-g--------------------------------------------------------------------------------------\n",
      "-------SSSSSSS------------oooo-----------------------------oo--oo-----------------------------------\n",
      "--------------------------SSSS----------R-----g----oo--------------------------R----oo--------------\n",
      "-----------------oo---SSS-----------------SSSSSS---------------------------r------------------------\n",
      "---------------------------------------------------------------------SSSSSSSS-------------------SSS-\n",
      "--SSSSS--------------------------------------------SSS----------------------------------------------\n",
      "------------------------------------SSS-------------------SSS-------------------SSSS--SSSS----------\n",
      "-------------------------?--------------------------------------------------------------------------\n",
      "o---------------------------------------------------------------SSSS---------ooo--------------------\n",
      "SS---------------------------------------------------------------------------SSS-----------------r--\n",
      "-----------------XXXX----XXXXX-XXXXX---------------------------------------------------------XXXXXXX\n",
      "-----------------XXXX----XXXXX-XXXXX---------------------------------------------------------XXXXXXX\n",
      "Best Score: 1320\n",
      "Best Coordinates: (0, 3691)\n",
      "\n",
      "Saved as: best_match_level_7.png\n",
      "\n",
      "Level 8:\n",
      "Best Match String:\n",
      "--------------------------------XXXXXXXXXXXXXXXXXX------------------XXXXXXXXXXXXXXXXXXXXXXXXXXXXXXXX\n",
      "--------------------------------XXXXXXXXXXXXXXXXXX------------------XXXXXXXXXXXXXXXXXXXXXXXXXXXXXXXX\n",
      "--------------------------------XXXXXXXXXXXXXXXXXX-------?----------XXXXXXXXXXXXXXXXXXXXXXXXXXXXXXXX\n",
      "----------------------------------------XXXXXXXXXX------------------XXXXXXXXXXXXXXXXXXXXXXXXXXXXXXXX\n",
      "-----------------##-------------------------------------------------XXXXXXXXXXXXXXXXXXXXXXXXXXXXXXXX\n",
      "-----------------##---------------------------------------------------------------------------------\n",
      "-------SSS-----####-------------XXXXXX------------------XXX-----------------------------------------\n",
      "---------------####-------------XXXXXX--------------------------------------------------------------\n",
      "S------------######-------------XXXXXXX-------------XX-------XX--------XXXXXXXXXXXX-XXXXXXXXXXX-XXXX\n",
      "-------------######-------------XXXXXXXXXXXXXXXXXX----------------XX--------------------------------\n",
      "-------------######-------------XXXXXXXXXXXXXXXXXX----------------XX--------------------------------\n",
      "--------r----######-------------XXXXXXXXXXXXXXXXXX----------------XX--------------------------------\n",
      "----XXXXXXXXXXXXXXXXXXXXXXXXXXXXXXXXXXXXXXXXXXXXXX----------------XXXXXXXXXXXXXXXXXXXXXXXXXXXXXXXXXX\n",
      "----XXXXXXXXXXXXXXXXXXXXXXXXXXXXXXXXXXXXXXXXXXXXXX----------------XXXXXXXXXXXXXXXXXXXXXXXXXXXXXXXXXX\n",
      "Best Score: 1302\n",
      "Best Coordinates: (0, 6337)\n",
      "\n",
      "Saved as: best_match_level_8.png\n",
      "\n",
      "Level 9:\n",
      "Best Match String:\n",
      "--------------------------------S-------------------------------------------------------------------\n",
      "SSSSSSSSSSSSSSSSSS--------------SSSSSSSSSSSSSSSSSSSSSSSSSSSSSSSSSSSSSSSSS-----SSSS------SSSSSSSSSSSS\n",
      "SSSSSSSSS------------------SSSSSS-----------------------------------------SSS-----------------------\n",
      "SSSSCSSSS-------------------------------------------------------------------------------------------\n",
      "SSSSSSSSS--!!-----------------------------------------------------------------SUS-------------------\n",
      "------------------------SSS-----------()------------------------------------------------------------\n",
      "--------------------------------------[]------------------------------------------------------------\n",
      "----g-gg------------SSS-2-------------[]-------S----------------------------------------------------\n",
      "SSSSSSSSS--!!--!?!-----2-2----------SC[]SS-------------------------()---------SSSS------------------\n",
      "SSSSSSgSS-----------------2-----()----[]----()---<>-------------#--[]--##------------------------()-\n",
      "SSSSSSSSS-----------------------[]----[]----[]---[]------------##--[]--##-----------------<>-----[]-\n",
      "SSSSSSSSS-----------------------[]---k[]---k[]--k[]---------k--##--[]--##-----------------[]----k[]-\n",
      "XXXXXXXXXXXXXXXXXX-----XXXXXXXXXXXXXXXXXXXXXXXXXXXXXXXXXXXXXXXXXX--XX--XX-----XXXX-SSS--XXXXXXXXXXXX\n",
      "XXXXXXXXXXXXXXXXXX-----XXXXXXXXXXXXXXXXXXXXXXXXXXXXXXXXXXXXXXXXXX--XX--XX-----XXXX------XXXXXXXXXXXX\n",
      "Best Score: 1395\n",
      "Best Coordinates: (0, 5521)\n",
      "\n",
      "Saved as: best_match_level_9.png\n",
      "\n",
      "Level 10:\n",
      "Best Match String:\n",
      "XXXXXXXXXXXXXXXXXXXXXX------------------------------------------------------------------------------\n",
      "XXXXXXXXXXXXXXXXXXXXXX------------------------------------------------------------------------------\n",
      "----------------------------------------------------------------------------------------------------\n",
      "----------------------------------------------------------------------------------------------------\n",
      "----------------------------------------------------------------------------------------------------\n",
      "-------------------------------------------------------------------------------------------------R--\n",
      "-----------------------------------------------------------------------------------K----------------\n",
      "----------------------------------------------------------------------------------------------------\n",
      "-X--------------------------------------------------------kkk---------------------------------------\n",
      "-------XX---XXXXXXXXXXXXXXXXXXXXX----------####SSSSSSSSSSSSSSS#---------#SSSSSSSSSS#--------------SS\n",
      "-------XX---XXXXXXXXXXXXXXXXXXXXX---------#####---------------#---------#----------#----------------\n",
      "-------XX---XXXXXXXXXXXXXXXXXXXXX--------######---------------#--SSSS---#----------#-#SSSSSSSS#-----\n",
      "-------XX---XXXXXXXXXXXXXXXXXXXXXXXXXXXXXXXXXXX---------------#---------#----------#-#--------#-----\n",
      "-------XX---XXXXXXXXXXXXXXXXXXXXXXXXXXXXXXXXXXX---------------#---------#----------#-#--------#-----\n",
      "Best Score: 1358\n",
      "Best Coordinates: (0, 14094)\n",
      "\n",
      "Saved as: best_match_level_10.png\n",
      "\n",
      "Level 11:\n",
      "Best Match String:\n",
      "----------------------------------------------------------------------------------------------------\n",
      "--------------------------------------------------------SSSSSSSSSSSSSSSSSSSSSSSSSSSSSSSSSSSSSSSSSSSS\n",
      "---------------------------------------------------------------------------SSSS---------------------\n",
      "---------------------------------------------------------------------------SCSS---------------------\n",
      "------------------------------------##---------------------------------------SS---------------------\n",
      "-----------------------------------###---------------------------------------SC-------2SSSSSS-------\n",
      "----------------------------------####-------------------------------------SS-----------------------\n",
      "-g-------------------------------#####-------------------------------------SS-----g-----------------\n",
      "SUSS----------------------------######--------------------------------S?S--SS----g##--SSSSSS2-------\n",
      "-------------()----------------#######-------------------------------------------###------SS----##--\n",
      "--------<>---[]-----<>--------########------------------------------------------####------SS----##--\n",
      "--------[]---[]---gg[]-------#########-----------------------------------------#####------SS----##--\n",
      "XXXXXX--XXXXXXXXXXXXXXXXXXXXXXXXXXXXXXXXXXXXXXXXXXXXXXXXXXXXX--XX---XXXXXXXXXXXXXXXX------XXXXXXXX--\n",
      "XXXXXX--XXXXXXXXXXXXXXXXXXXXXXXXXXXXXXXXXXXXXXXXXXXXXXXXXXXXX--XX---XXXXXXXXXXXXXXXX------XXXXXXXX--\n",
      "Best Score: 1210\n",
      "Best Coordinates: (0, 16857)\n",
      "\n",
      "Saved as: best_match_level_11.png\n",
      "\n",
      "Level 12:\n",
      "Best Match String:\n",
      "XXXXXXXXXXXXXXXXXXXXXXXXXXXXXXXXXXXXXXXXXXXXXXXXXXXXXXXXXXXXXXXXXXXXXXXXXXXXXXXXXXXXXXXXXXXX--------\n",
      "XXXXXXXXXXXXXXXXXXXXXXXXXXXXXXXXXXXXXXXXXXXXXXXXXXXXXXXXXXXXXXXXXXXXXXXXXXXXXXXXXXXXXXXXXXXX--------\n",
      "----------------------------------------------------------------------------------------------------\n",
      "----------------------------------------------------------------------------------------------------\n",
      "-------------------XXXXXXXXXXXXXX22-----------------------------------------------------------------\n",
      "--------------()-------------------XXXXXXXXXXXXXXXX-------------------------------------------------\n",
      "--------------[]-------------------XXXXXXXXXXXXXXXX-------------------------------------------------\n",
      "--------------[]-------------------XXXXXXXXXXXXXXXX-------------------------------------------------\n",
      "--XXXXXXXXXXXXXX---XXXXXXXXXXXXXXX2XXXXXXXXXXXXXXXX--------------------X----------------------------\n",
      "------------------------------------------------------X--X-------------------XX---XXXXXXXXXXXXXXXXXX\n",
      "------------------------------------------------------X--X-------------------XX---XXXXXXXXXXXXXXXXXX\n",
      "----------------------------gg--------------k--k------X()X---SSS-------------XX---XXXXXXXXXXXXXXXXXX\n",
      "XXXXXXXXXXXXXXXX--XXXXXXXXXXXXXXXX-XXXXXXXXXXXXXXXX---X[]X-------------------XX---XXXXXXXXXXXXXXXXXX\n",
      "XXXXXXXXXXXXXXXX--XXXXXXXXXXXXXXXX-XXXXXXXXXXXXXXXX---X[]X-------------------XX---XXXXXXXXXXXXXXXXXX\n",
      "Best Score: 1339\n",
      "Best Coordinates: (0, 14024)\n",
      "\n",
      "Saved as: best_match_level_12.png\n",
      "\n",
      "Level 13:\n",
      "Best Match String:\n",
      "X---------------------------------------------------------------------------------------------------\n",
      "X---------------------------------------------------------------------------------------------------\n",
      "----------------------------------------------------------------------------------------------------\n",
      "----------------------------------------------------------------------------------------------------\n",
      "------------------------!--------------------------------------!-!-------------------------1--------\n",
      "----------------------------------------------------------------------------------------------------\n",
      "----------------------------------------------------------------------------------------------------\n",
      "-----------------------------------------oo---------------------------------------------------------\n",
      "------------------------!---------------o--o-------------------!-!-----------------------!!!!-------\n",
      "X-------------------()------------------------------------------------------------------------------\n",
      "X-------------------[]------------------------------------------------------------------------------\n",
      "X-------------------[]----y----------------y---------------------y-----y----------------------------\n",
      "XXXXXXXXXXXXXXXXXXXXXXXXXXXXXXX--XXXXXXXXXXXXXXXXXXXXXXXXXXXXXXXXXXXXXXXXXXXX----XXXXXXXXXXXXXXXXXXX\n",
      "XXXXXXXXXXXXXXXXXXXXXXXXXXXXXXX--XXXXXXXXXXXXXXXXXXXXXXXXXXXXXXXXXXXXXXXXXXXX----XXXXXXXXXXXXXXXXXXX\n",
      "Best Score: 1203\n",
      "Best Coordinates: (0, 5255)\n",
      "\n",
      "Saved as: best_match_level_13.png\n",
      "\n",
      "Level 14:\n",
      "Best Match String:\n",
      "----------------------------------------------------------------------------------------------------\n",
      "----------------------------------------------------------------------------------------------------\n",
      "----------------------------------------------------------------------------------------------------\n",
      "----------------------------------------------------------------------------------------------------\n",
      "--------------------------------------------------------------------------------S!SSSS!S------------\n",
      "----------------------------------------------------------------------------------------------------\n",
      "---<><>---------------------------------------------------------------------------------------------\n",
      "---[][]--------------------------------------------------------------------------------g------------\n",
      "oo-[][]----<><><>-----------------------------<><>---------S?----<>---o---------SSSS!SSS------------\n",
      "---[][]----[][][]-----------------------#-----[][]---------------[]--o-o--#------------------#---oo-\n",
      "---[][]----[][][]---------------------g##-----[][]---------------[]-------##----------------##------\n",
      "gg-[][]----[][][]-------gg---------K--###-----[][]---------------[]------g###-----g--------###------\n",
      "XXXXXXXX---[][][]---XXXXXX-XX-XXXXXXXXXXXXXX--[][]---XXXXXSSSSSXXXXXX-XXXXXXXXXXXXXXXXXXXXXXXX--XXXX\n",
      "XXXXXXXX---[][][]---XXXXXX-XX-XXXXXXXXXXXXXX--[][]---XXXXX-----XXXXXX-XXXXXXXXXXXXXXXXXXXXXXXX--XXXX\n",
      "Best Score: 1293\n",
      "Best Coordinates: (0, 2610)\n",
      "\n",
      "Saved as: best_match_level_14.png\n",
      "\n",
      "Level 15:\n",
      "Best Match String:\n",
      "----------------------------------------------------------------------------------------------------\n",
      "----------------------------------------------------------------------------------------------------\n",
      "--------------------------------------------------------------##------------------------------------\n",
      "--------------------------------------------------------------##------------------------------------\n",
      "S-----------------------------------SSSSS---U-------------!---##------------------------------------\n",
      "--------------------------------------------------------------##------------------------------------\n",
      "--------------------------------------------------------------##------------------------------------\n",
      "--()----------------------------------------------------------##------------------------------------\n",
      "--[]-----------------------------C--------!--------------SS---##------------------------------------\n",
      "--[]-------------------K--#---------------------()------------##-------------------------###SSSSSSSS\n",
      "--[]----------------------#---------------------[]----------S-##------------------------####--------\n",
      "--[]-----k----------------#-------gg-----K-K----[]-------k----##-----------------------#####--------\n",
      "XXXXXXXXXXX---XXXXXXXXXX--XXXXXXXXXXXXXXXXXXXXXXXXXXXXXXXXXXXXXXXXXXXXXXXXXXXXXXXXXX-XXXXXXXX-------\n",
      "XXXXXXXXXXX---XXXXXXXXXX--XXXXXXXXXXXXXXXXXXXXXXXXXXXXXXXXXXXXXXXXXXXXXXXXXXXXXXXXXX-XXXXXXXX-------\n",
      "Best Score: 1309\n",
      "Best Coordinates: (0, 4085)\n",
      "\n",
      "Saved as: best_match_level_15.png\n",
      "\n",
      "Level 16:\n",
      "Best Match String:\n",
      "----------------------------------------------------------------------------------------------------\n",
      "----------------------------------------------------------------------------------------------------\n",
      "----------------------------------------------------------------------------------------------------\n",
      "----------------------------------------------------------------------------------------------------\n",
      "--------------------------------------------------#-------------------------------------------------\n",
      "--------------------------------------------------#-------------------------------------------------\n",
      "--------------------------------------------------#-------------------------------------------------\n",
      "---------------------------K--------2--2--------!-#---------------------R-----2------2--------------\n",
      "--------------------------------------------------#------------------------S------------------------\n",
      "--------------------------------------------------#---------------SSS-------------------------------\n",
      "----------------------------()--------------------#--------#----------------------------------------\n",
      "-k------------kk--kk--------[]----------------S---#-------##--------------------------g-------------\n",
      "XXXXXXXXXXXXXXXXXXXXXXXXXXXXXXXX-XXXXXXXXXXXXXX---X-------XX--XXXXX-------XXXXXXXXXXXXXXXXXXXXXXXXXX\n",
      "XXXXXXXXXXXXXXXXXXXXXXXXXXXXXXXX-XXXXXXXXXXXXXX---X-------XX--XXXXX-------XXXXXXXXXXXXXXXXXXXXXXXXXX\n",
      "Best Score: 1232\n",
      "Best Coordinates: (0, 13365)\n",
      "\n",
      "Saved as: best_match_level_16.png\n",
      "\n",
      "Level 17:\n",
      "Best Match String:\n",
      "----------------------------------------------------------------------------------------------------\n",
      "----------------------------------------------------------------------------------------------------\n",
      "----------------------------------------------------------------------------------------------------\n",
      "----------------------------------------------------------------------------------------------------\n",
      "----------------------##----------------------------------------------------------------------------\n",
      "---------------------###----------------------------------------------------------------------------\n",
      "--------------------####----------------------------------------------------------------------------\n",
      "-ooo----------------####----------------------------------------------------------------------------\n",
      "------------------#-####----------------------------------------------------------------------------\n",
      "-----------------##-####-------------------------oo?------------------------------------------------\n",
      "---g#-----------###-####----------------------------------------------------------------------------\n",
      "XXXX##-------g-####-####--------------------------------------k--------------------------g-----k----\n",
      "XXXXXXXXXXXXXXXXXXXXXXXXXXXXXXXXXXXXXXXXXXXXX---XXXXXXX--XXXXXX--XXXXXXXXXXX()XXX--XXXXXXXXXXXXXXXXX\n",
      "XXXXXXXXXXXXXXXXXXXXXXXXXXXXXXXXXXXXXXXXXXXXX---XXXXXXX--XXXXXX--XXXXXXXXXXX[]XXX--XXXXXXXXXXXXXXXXX\n",
      "Best Score: 1264\n",
      "Best Coordinates: (0, 1134)\n",
      "\n",
      "Saved as: best_match_level_17.png\n",
      "\n",
      "Level 18:\n",
      "Best Match String:\n",
      "------------------------------------SSSSSSSSSSSSSSSSSSSSSSSSSSSSSSSSSSSSSSSSSSSSSSSSSSSSSSSSSSSSSSSS\n",
      "----------------------------------------------------------------------------------------------------\n",
      "---------------------#------------------------------------------------------------------------------\n",
      "--------------------##------------------------------------------------------------------------------\n",
      "------------------g###------------------------------------------------------------------------------\n",
      "------------------####------------------------------------------------------------------------------\n",
      "-----------------#####-------------------------------------------?----------------------------------\n",
      "---------------g######--------------XXXXXX------------K--------------------()-----------------------\n",
      "-ooo-----------#######--------------XXXXXX---------------------------------[]-----------------------\n",
      "--------------########--------------XXXXXXX--------------------------------[]-----------------------\n",
      "-------------#########--------------XXXXXXXX---------------------------<>--[]--<>-------------------\n",
      "------------##########--------------XXXXXXXXX------K-----K-------------[]--[]--[]-----r---r---r-----\n",
      "-XXX--XXXXXXXXXXXXXXXXXXXXXXXXXXXXXXXXXXXXXXXXXXXXXXXXXXXXXXXX-------XXXXXXXXXXXXXXXXXXXXXXXXXXXXXSS\n",
      "-XXX--XXXXXXXXXXXXXXXXXXXXXXXXXXXXXXXXXXXXXXXXXXXXXXXXXXXXXXXX-------XXXXXXXXXXXXXXXXXXXXXXXXXXXXX--\n",
      "Best Score: 1222\n",
      "Best Coordinates: (0, 21414)\n",
      "\n",
      "Saved as: best_match_level_18.png\n",
      "\n",
      "REPLACING <PIL.PngImagePlugin.PngImageFile image mode=RGB size=16x16 at 0x76EB29D3CD30> (4, 8)\n",
      "Level 19:\n",
      "Best Match String:\n",
      "----------------------------------------------------------------------------------------------------\n",
      "SSSSSCSSSSSSSSSSSSSSSSSSSSSSSSSSSSSSSSSSSSSSS------------------SSSSSSSSSSSSSSSSSSSSSSSSSSSSSSSSSSSSS\n",
      "--SSS----------------------############-------------------------------------------------------------\n",
      "--SSS-oooo-----------------############-------------------------------------------------------------\n",
      "o-SSS----------------------############----------------------------------------------------g-----g--\n",
      "--SSSr---------------------############---------------------------------------------------SSS--SSS--\n",
      "-rSSSSSSSS-----------------##--##--##-----------------------------------------------------SSS--SSS--\n",
      "SSSSSSSSSS------#<>--#()---##--##--##-----------------------------------------------------SSS--SSS--\n",
      "SSSSL------------[]---[]-------------------()-oo-?Soo-----()--------------------#<>-------SSS--SSS--\n",
      "--SSS-------()---[]---[]-------------------[]-------------[]--SSSS-----SSSS------[]-----------------\n",
      "------------[]---[]---[]-------------------[]---------<>--[]---------------------[]-----------------\n",
      "------k--gg-[]---[]---[]---------------k-gg[]------gg-[]--[]---------------------[]-------------K--g\n",
      "XXXXXXXXXXXXXXXXXXX---[]XXXXXXXX-XXXXXXXXXX[]XXXXXXXXX[]--[]---------------------[]--XXXXXXXXXXXXXXX\n",
      "XXXXXXXXXXXXXXXXXXX---[]XXXXXXXX-XXXXXXXXXX[]XXXXXXXXX[]--[]---------------------[]--XXXXXXXXXXXXXXX\n",
      "Best Score: 1121\n",
      "Best Coordinates: (0, 1609)\n",
      "\n",
      "Saved as: best_match_level_19.png\n",
      "\n",
      "Level 20:\n",
      "Best Match String:\n",
      "----------------------------------------------------------------------------------------------------\n",
      "----------------------------------------------------------------------------------------------------\n",
      "----------------------------------------------------------------------------------------------------\n",
      "----------------------------------------------------------------------------------------------------\n",
      "----------------------------------------------------------------------------------------------------\n",
      "----------------------------------------------------------------------------------------------------\n",
      "----------------------------------------------------------------------------------------------------\n",
      "----------------------------------------------------------------------------------------------------\n",
      "----------------------------------------------------------------------------------------------------\n",
      "------------------------oo?---------------------------------------------------------------------B---\n",
      "----------------------------------------------------------------------------------------------B-b---\n",
      "-------------------------------------k--------------------------g-----k------------#--------B-b-b---\n",
      "XXXXXXXXXXXXXXXXXXXX---XXXXXXX--XXXXXX--XXXXXXXXXXX()XXX--XXXXXXXXXXXXXXXXXXXXXXXXXX-XXXXXX-b-b-b---\n",
      "XXXXXXXXXXXXXXXXXXXX---XXXXXXX--XXXXXX--XXXXXXXXXXX[]XXX--XXXXXXXXXXXXXXXXXXXXXXXXXX-XXXXXX-X-X-X---\n",
      "Best Score: 1205\n",
      "Best Coordinates: (0, 1159)\n",
      "\n",
      "Saved as: best_match_level_20.png\n",
      "\n",
      "Level 21:\n",
      "Best Match String:\n",
      "SSSSSSSSXXXXXXXXXXXXXXXXXXXXXXXXXXXXXXXXXXXXXXXXXXXXXXXXXXXXXXXXXXXXXXXXXXXXXXXXXXXXXXXXXXXXXXXXXXXX\n",
      "----------------------------------------------------------------------------------------------------\n",
      "----------------------------------------------------------------------------------------------------\n",
      "----------------------------------------------------------------------------------------------------\n",
      "----------------------------------------------------------------------------------------------------\n",
      "----------------------------------------------------------------------------------------------------\n",
      "----------------------------------------------------------------------------------------------------\n",
      "--------XXXXXX-------------------------------------------------------------------------------------?\n",
      "--------XXXXXX------------------------SCSSUSS-----------------------()-------------<>SSSSSS<>-------\n",
      "--------XXXXXXX-----------------------------------------------------[]-------------[]------[]-------\n",
      "X-------XXXXXXXX----------------------------------------------------[]-------------[]------[]-------\n",
      "XX------XXXXXXXXX-------------r--r--r-------------------------------[]--g---g---g--[]------[]-------\n",
      "XXXXXXXXXXXXXXXXXXXXXX---XXXXXXXXXXXXXXXXXXXXXXX---------XXXXXXXXXXXXXXXXXXXXXXXXXXXXXXXXXXXXXXXXXXX\n",
      "XXXXXXXXXXXXXXXXXXXXXX---XXXXXXXXXXXXXXXXXXXXXXX---------XXXXXXXXXXXXXXXXXXXXXXXXXXXXXXXXXXXXXXXXXXX\n",
      "Best Score: 1187\n",
      "Best Coordinates: (0, 21613)\n",
      "\n",
      "Saved as: best_match_level_21.png\n",
      "\n",
      "REPLACING <PIL.PngImagePlugin.PngImageFile image mode=RGB size=16x16 at 0x76EB29DB0DF0> (32, 9)\n",
      "Level 22:\n",
      "Best Match String:\n",
      "----------------------------------------------------------------------------------------------------\n",
      "----------------------------------------------------------------------------------------------------\n",
      "----------------------------------------------------------------------------------------------------\n",
      "----------------------------------------------------------------------------------------------------\n",
      "----------------------------------------------------------------------------------------------------\n",
      "---------------------------------------------2--------------oo------------------SSS----------------2\n",
      "-----------------------------------------------------------o----------------------------------------\n",
      "--oo---------------------------------------------------------CUCSS----------------------------------\n",
      "-o--o-----------------oo--------------------------oo------------------------------------------------\n",
      "---------------------o--o-------L-----S!S---CC---o--o------------------------SSC222CSS----------C--C\n",
      "---------------------------------------------------------<>-----------------------------------------\n",
      "-----------<>--------------------------------------------[]-------------------------------<>--------\n",
      "-XXXX----g-[]------g---------------------g---------------[]---------------k------g--------[]--------\n",
      "XXXXXXXXXXX[]XXXXXXXXX--XXXXXXXXXXXXXXXXXXXXXXXXXX--XXXXX[]XXXXXXXXXXXXXXXXXXXXXXXXXXXXXXX[]XXXXXXXX\n",
      "Best Score: 1015\n",
      "Best Coordinates: (0, 44)\n",
      "\n",
      "Saved as: best_match_level_22.png\n",
      "\n",
      "Level 23:\n",
      "Best Match String:\n",
      "---------------------------------------------------------------------------XXXXXXXXXXXXXXXXXXXXXXXXX\n",
      "---------------------------------------------------------------------------XXXXXXXXXXXXXXXXXXXXXXXXX\n",
      "----------------------------------------------------------------------------------------------------\n",
      "----------------------------------------------------------------------------------------------------\n",
      "-------------------------------------------------------------##-------------------------------------\n",
      "----------------------------------------------------------------------------------------------------\n",
      "-----------------------------------------------------------#---------------XXXXXX-------------------\n",
      "---------------------------------------------------------------------------XXXXXX-------------------\n",
      "-----------------------------------------------C---------#-----------------XXXXXXX------------------\n",
      "-------------------------()------------------------------------------------XXXXXXXX-----------------\n",
      "-------------------------[]-------------------------#--#-------------------XXXXXXXX-------------()--\n",
      "---g------------g--------[]-------g-------g---------#----------------------XXXXXXXX-------------[]--\n",
      "XXXXXXXXXXXXXXXXXXXXXXXXXXXXXXXXXXXXXXXXXXXXXXXXXXXXXX----------XXXXXXXXXXXXXXXXXXX-----XXXXXXXX[]XX\n",
      "XXXXXXXXXXXXXXXXXXXXXXXXXXXXXXXXXXXXXXXXXXXXXXXXXXXXXX----------XXXXXXXXXXXXXXXXXXX-----XXXXXXXX[]XX\n",
      "Best Score: 1090\n",
      "Best Coordinates: (0, 8366)\n",
      "\n",
      "Saved as: best_match_level_23.png\n",
      "\n",
      "Level 24:\n",
      "Best Match String:\n",
      "----------------------------------------------------------------------------------------------------\n",
      "SSSSSSSSSSSSSSSSSSSSSSSSSSSSSSSSSSSSSSSSSSSSSSSSSSSSSSSSSSSSSSS------SSSSSSSSSSSSSSSSSSSSSSS--------\n",
      "----------------------------------------------------------------------------------------------------\n",
      "----------------------------------------------------------------------------------------------------\n",
      "----------------------------------------------------------------------------------------------------\n",
      "----------------------------------------------------------------------------------------------------\n",
      "----------------------------------------------------------------------------------------------------\n",
      "-------------------------------------------------------------------------------<>----------<>-------\n",
      "------()---------------K-------------------------------------------------------[]-----?S---[]-------\n",
      "------[]---------------S-------------S-------------------()--------------------[]----------[]-------\n",
      "------[]---------------S-------------S-------------------[]--------------------[]----------[]-------\n",
      "----kr[]-------------g-C------k------C---------------k#--[]--------------------[]----------[]-------\n",
      "XXXXXXXXXXXXXX--XXXXXXXXXXXXXXXXXXXXXXXXXX--XXXXXXXXXX#--[]XXXXXXXXXXXXXXXXXXXXXXXXXXXXXXXXXX--XXXXX\n",
      "XXXXXXXXXXXXXX--XXXXXXXXXXXXXXXXXXXXXXXXXX--XXXXXXXXXX#--[]XXXXXXXXXXXXXXXXXXXXXXXXXXXXXXXXXX--XXXXX\n",
      "Best Score: 1045\n",
      "Best Coordinates: (0, 2121)\n",
      "\n",
      "Saved as: best_match_level_24.png\n",
      "\n",
      "Level 25:\n",
      "Best Match String:\n",
      "----------------------------------------XXXXXXXXXXXXXXXXXXXXXXXXXXXXXXXXXXXXXXXXXXXXXXXXXXXXXXXXXXXX\n",
      "----------------------------------------XXXXXXXXXXXXXXXXXXXXXXXXXXXXXXXXXXXXXXXXXXX-----------------\n",
      "----------------------------------------XXXXXXXXXXX------------------XXXXXXXXXXXXXX-----------------\n",
      "SSSSSSSSSS---------------()--------------------XXXX------------------XXXXXXXXXXXXXX-----------------\n",
      "-------------------------[]---------------------------X-XXXXXXXXXXXX-XXXXXXXXXXXXXX-----#----#----#-\n",
      "-------------------------[]--------------------------XXXXXXXXXXXXXXX-XXXXXXXXXXXXXX-----------------\n",
      "-------------------------[]-------------XXXXXX-------XXXXXXXXXXXXXXX-XXXXXXXXXXXXXX-----------------\n",
      "---------------------y-()[]-------------XXXXXXXXXXXXXXXXXXXXXXXXXXXX-XXXXXXXXXXXXXX-----------------\n",
      "--------------------##-[][]-------------XXXXXXXXXXXXXXXXXXXXXXXXXXXX-XXXXXXXXXXXXXX2----------------\n",
      "-------------------###-[][]-------------XXXXXXXXXXXXXXXXXXXXXXXXXXXX-XXXXXXXXXXXXXX-----------------\n",
      "------------------####-[][]-------------XXXXXXXXXXXXXXXXXXXXXXXXXXXX--------------------------------\n",
      "-----------------#####-[][]-------------XXXXXXXXXXXXXXXXXXXXXXXXXXXX--------------------------------\n",
      "----XX---XXXXXXXXXXXXXXXXXXXXXXXXXXXXXXXXXXXXXXXXXXXXXXXXXXXXXXXXXXX-SSS-XXXXXXXXXXX----#----#----#-\n",
      "----XX---XXXXXXXXXXXXXXXXXXXXXXXXXXXXXXXXXXXXXXXXXXXXXXXXXXXXXXXXXXX-----XXXXXXXXXXXX---------------\n",
      "Best Score: 1062\n",
      "Best Coordinates: (0, 15854)\n",
      "\n",
      "Saved as: best_match_level_25.png\n",
      "\n"
     ]
    }
   ],
   "source": [
    "import numpy as np\n",
    "import pandas as pd\n",
    "import ast  # To safely evaluate string representations of lists\n",
    "from mario_gpt.level import FULL_LEVEL_STR_WITH_PATHS\n",
    "from mario_gpt.utils import convert_level_to_png\n",
    "\n",
    "# Load the CSV file\n",
    "temperature_levels = pd.read_csv(\"temperature_levels.csv\")\n",
    "\n",
    "# Define the tiles directory (update this path to where your tile images are stored)\n",
    "tiles_dir = \"./mario_gpt/data/tiles\"\n",
    "\n",
    "# Iterate through the levels in the \"level\" column\n",
    "for index, level in enumerate(temperature_levels['level']):\n",
    "    # Parse the string representation of the list into a Python list\n",
    "    a_list = ast.literal_eval(level)\n",
    "    \n",
    "    # Convert the list into rows of characters\n",
    "    a_rows = [list(row) for row in a_list]\n",
    "    big_rows = [list(row) for row in FULL_LEVEL_STR_WITH_PATHS.strip().split(\"\\n\")]\n",
    "\n",
    "    # Dimensions of the small string\n",
    "    a_height = len(a_rows)\n",
    "    a_width = len(a_rows[0])\n",
    "\n",
    "    # Dimensions of the big string\n",
    "    big_height = len(big_rows)\n",
    "    big_width = len(big_rows[0])\n",
    "\n",
    "    # Function to calculate similarity between two grids\n",
    "    def similarity(grid1, grid2):\n",
    "        matches = sum(1 for r1, r2 in zip(grid1, grid2) for c1, c2 in zip(r1, r2) if c1 == c2)\n",
    "        return matches\n",
    "\n",
    "    # Sliding window search\n",
    "    best_match = None\n",
    "    best_score = -1\n",
    "    best_coords = None\n",
    "\n",
    "    for i in range(big_height - a_height + 1):\n",
    "        for j in range(big_width - a_width + 1):\n",
    "            # Extract the current window\n",
    "            window = [big_rows[i + k][j:j + a_width] for k in range(a_height)]\n",
    "            # Compute similarity\n",
    "            score = similarity(a_rows, window)\n",
    "            if score > best_score:\n",
    "                best_score = score\n",
    "                best_match = window\n",
    "                best_coords = (i, j)\n",
    "\n",
    "    # Format the best match for visualization\n",
    "    best_match_str = \"\\n\".join(\"\".join(row) for row in best_match)\n",
    "\n",
    "    # Convert the best match to a PNG\n",
    "    png_image, _, _ = convert_level_to_png(\n",
    "        level=best_match_str.split(\"\\n\"),  # Pass the level as a list of strings\n",
    "        tiles_dir=tiles_dir,\n",
    "        target_size=None  # You can specify a target size if needed\n",
    "    )\n",
    "    \n",
    "    # Save the PNG to a file\n",
    "    png_image.save(f\"level_matches/best_match_level_{index + 1}.png\")\n",
    "    \n",
    "    # Print results for each level\n",
    "    print(f\"Level {index + 1}:\")\n",
    "    print(f\"Best Match String:\\n{best_match_str}\")\n",
    "    print(f\"Best Score: {best_score}\")\n",
    "    print(f\"Best Coordinates: {best_coords}\\n\")\n",
    "    print(f\"Saved as: best_match_level_{index + 1}.png\\n\")\n"
   ]
  }
 ],
 "metadata": {
  "kernelspec": {
   "display_name": "Python 3 (ipykernel)",
   "language": "python",
   "name": "python3"
  },
  "language_info": {
   "codemirror_mode": {
    "name": "ipython",
    "version": 3
   },
   "file_extension": ".py",
   "mimetype": "text/x-python",
   "name": "python",
   "nbconvert_exporter": "python",
   "pygments_lexer": "ipython3",
   "version": "3.10.9"
  }
 },
 "nbformat": 4,
 "nbformat_minor": 5
}
